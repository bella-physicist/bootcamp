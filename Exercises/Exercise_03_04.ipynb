{
 "cells": [
  {
   "cell_type": "markdown",
   "id": "1f4f899c-64fc-4669-a5ea-d902c4291bb5",
   "metadata": {},
   "source": [
    "# Excercise 3.1"
   ]
  },
  {
   "cell_type": "code",
   "execution_count": 50,
   "id": "865df0b4-db87-4f15-94ea-3274b3b3f233",
   "metadata": {},
   "outputs": [],
   "source": [
    "import os\n",
    "import glob\n",
    "import numpy as np\n",
    "import bootcamp_utils"
   ]
  },
  {
   "cell_type": "code",
   "execution_count": 19,
   "id": "ba8d88a8-8705-4d45-a1e8-dce889269525",
   "metadata": {},
   "outputs": [],
   "source": [
    "def readFASTA(filename):\n",
    "    with open(filename, 'r') as f:\n",
    "        num_lines = len(f.readlines())\n",
    "        f.seek(0)\n",
    "        title = f.readline()\n",
    "        print('the infomation of this file:\\n', title)\n",
    "        seq = ''\n",
    "        for i in range(num_lines-1):\n",
    "            line = f.readline().replace(\"\\n\",\"\")\n",
    "            if '>' not in line:\n",
    "                seq += line\n",
    "    print('The total number of lines in this file: %d including the first title line.' % (num_lines))\n",
    "    print('The total number of bases in this sequence: %d \\n' % (len(seq)))\n",
    "    output = (title, seq)\n",
    "    return output"
   ]
  },
  {
   "cell_type": "code",
   "execution_count": 20,
   "id": "203aba31-bf44-4cdf-be18-0fd6e5e28dee",
   "metadata": {},
   "outputs": [
    {
     "name": "stdout",
     "output_type": "stream",
     "text": [
      "the infomation of this file:\n",
      " >gi|821161554|gb|CP011428.1| Salmonella enterica subsp. enterica strain YU39, complete genome, subsequence 3000000 to 3200000\n",
      "\n",
      "The total number of lines in this file: 3335 including the first title line.\n",
      "The total number of bases in this sequence: 200000 \n",
      "\n"
     ]
    }
   ],
   "source": [
    "seqinfo = readFASTA(\"../data/salmonella_spi1_region.fna\")"
   ]
  },
  {
   "cell_type": "markdown",
   "id": "85a14920-ece3-4738-888a-5443ec979d8a",
   "metadata": {},
   "source": [
    "# Excercise 3.2"
   ]
  },
  {
   "cell_type": "code",
   "execution_count": 21,
   "id": "249832ce-199f-49d9-9fd9-ded1495fc03a",
   "metadata": {},
   "outputs": [],
   "source": [
    "def FindCodon(doprt, seq, **recoq_seq):\n",
    "    where = []\n",
    "    result = {}\n",
    "    i = 0\n",
    "    for ezm, site in recoq_seq.items():\n",
    "        where.append([])\n",
    "        if site in seq:\n",
    "            num_site = seq.count(site)\n",
    "            ind = -1\n",
    "            for j in range(num_site):\n",
    "                ind = seq[ind+1:].find(site)\n",
    "                if j > 0:\n",
    "                    ind += where[i][j-1] + 1\n",
    "                where[i].append(ind)\n",
    "        result[ezm] = where[i]\n",
    "        i += 1\n",
    "    if doprt == 1:\n",
    "        print (\"The corresponding codon sites:\\n\", result, \"\\n\")\n",
    "    return result"
   ]
  },
  {
   "cell_type": "code",
   "execution_count": 22,
   "id": "1f80909d-0e1b-4c68-b0a3-10b56436bdc8",
   "metadata": {},
   "outputs": [
    {
     "name": "stdout",
     "output_type": "stream",
     "text": [
      "The corresponding codon sites:\n",
      " {'HindIII': [0, 12, 18], 'EcoRI': [6], 'KpnI': []} \n",
      "\n"
     ]
    }
   ],
   "source": [
    "rstr_ezm = {'HindIII':'AAGCTT', 'EcoRI':'GAATTC', 'KpnI':'GGTACC'}\n",
    "rstr_sites = FindCodon(1, 'AAGCTTGAATTCAAGCTTAAGCTT', **rstr_ezm)"
   ]
  },
  {
   "cell_type": "code",
   "execution_count": 23,
   "id": "303a83a4-8435-4402-8519-1ec524e2ef25",
   "metadata": {},
   "outputs": [
    {
     "name": "stdout",
     "output_type": "stream",
     "text": [
      "the infomation of this file:\n",
      " >Lambda_NEB\n",
      "\n",
      "The total number of lines in this file: 694 including the first title line.\n",
      "The total number of bases in this sequence: 48502 \n",
      "\n",
      "The corresponding codon sites:\n",
      " {'HindIII': [23129, 25156, 27478, 36894, 37458, 37583, 44140], 'EcoRI': [21225, 26103, 31746, 39167, 44971], 'KpnI': [17052, 18555]} \n",
      "\n"
     ]
    }
   ],
   "source": [
    "seqinfo = readFASTA(\"../data/lambda.fna\")\n",
    "rstr_ezm = {'HindIII':'AAGCTT', 'EcoRI':'GAATTC', 'KpnI':'GGTACC'}\n",
    "rstr_sites = FindCodon(1, seqinfo[1], **rstr_ezm)"
   ]
  },
  {
   "cell_type": "markdown",
   "id": "14351a5d-af8f-4e8b-9307-3612cd589dfc",
   "metadata": {},
   "source": [
    "# Excercise 4.1"
   ]
  },
  {
   "cell_type": "code",
   "execution_count": 24,
   "id": "e8e25b5b-1ac5-4c73-bf09-8dba9d7bf339",
   "metadata": {},
   "outputs": [],
   "source": [
    "def gc_blocks(seq, block_size):\n",
    "    num_block = len(seq) // block_size\n",
    "    rest_bases = len(seq) % block_size\n",
    "    gc_content = []\n",
    "    for i in range(num_block) :\n",
    "            target = seq[i*block_size : (i + 1)*block_size].upper()\n",
    "            gc_rate = (target.count('G') + target.count('C')) / block_size\n",
    "            gc_content.append(gc_rate)\n",
    "    avg_gc = np.mean(gc_content)\n",
    "    print(\"With block size %d, there are %d numbers of blocks and the rest bases are %d in blocking.\"\n",
    "          % (block_size, num_block, rest_bases))\n",
    "    print(\"The average GC-content in this sequence is %0.2f.\\n\" % (avg_gc))\n",
    "    return tuple(gc_content)"
   ]
  },
  {
   "cell_type": "code",
   "execution_count": 25,
   "id": "c071ee1b-7f9c-4c89-8777-a68348873188",
   "metadata": {},
   "outputs": [
    {
     "name": "stdout",
     "output_type": "stream",
     "text": [
      "With block size 4, there are 2 numbers of blocks and the rest bases are 2 in blocking.\n",
      "The average GC-content in this sequence is 0.38.\n",
      "\n"
     ]
    }
   ],
   "source": [
    "gc = gc_blocks('ATGACTACGT', 4)"
   ]
  },
  {
   "cell_type": "code",
   "execution_count": 26,
   "id": "8ee6e8b8-c8e9-4c32-a2dd-4fab8c8d4c14",
   "metadata": {},
   "outputs": [],
   "source": [
    "def gc_map(doprt, seq, block_size, gc_thresh):\n",
    "    num_block = len(seq) // block_size\n",
    "    rest_bases = len(seq) % block_size\n",
    "    new_seq = ''\n",
    "    gcmap = ''\n",
    "    for i in range(num_block):\n",
    "            target = seq[i*block_size:(i+1)*block_size].upper()\n",
    "            gc_rate = (target.count('G') + target.count('C')) / block_size\n",
    "            if gc_rate > gc_thresh:\n",
    "                new_seq += target\n",
    "                gcmap += '1'\n",
    "            else:\n",
    "                new_seq += target.lower()\n",
    "                gcmap += '.'\n",
    "    if doprt == 1:\n",
    "        converted = gcmap.count('1')\n",
    "        print(\"With GC-threshold %0.2f, %d out of %d are GC-blocks in the sequence.\"\n",
    "              % (gc_thresh, converted, num_block))\n",
    "        print('gc-map:\\n',gcmap, '\\n')\n",
    "    return new_seq"
   ]
  },
  {
   "cell_type": "code",
   "execution_count": 27,
   "id": "b9071de2-8132-4756-b2af-f474b32f309c",
   "metadata": {},
   "outputs": [
    {
     "data": {
      "text/plain": [
       "'atgaCTAC'"
      ]
     },
     "execution_count": 27,
     "metadata": {},
     "output_type": "execute_result"
    }
   ],
   "source": [
    "gc_map(0, 'ATGACTACGT', 4, 0.4)"
   ]
  },
  {
   "cell_type": "code",
   "execution_count": 28,
   "id": "39735e6a-6976-48b0-85ab-0430cfa6e629",
   "metadata": {},
   "outputs": [
    {
     "name": "stdout",
     "output_type": "stream",
     "text": [
      "the infomation of this file:\n",
      " >gi|821161554|gb|CP011428.1| Salmonella enterica subsp. enterica strain YU39, complete genome, subsequence 3000000 to 3200000\n",
      "\n",
      "The total number of lines in this file: 3335 including the first title line.\n",
      "The total number of bases in this sequence: 200000 \n",
      "\n",
      "With block size 1000, there are 200 numbers of blocks and the rest bases are 0 in blocking.\n",
      "The average GC-content in this sequence is 0.52.\n",
      "\n",
      "With GC-threshold 0.45, 177 out of 200 are GC-blocks in the sequence.\n",
      "gc-map:\n",
      " 111111111111111111111111111111111111111....111...1.1..111111..11111.1.111...1..1111111111111111111111111111111111111.1111111111111.111111111111111111111111.11111111.11111111111111111111111111111111111 \n",
      "\n"
     ]
    }
   ],
   "source": [
    "file = \"../data/salmonella_spi1_region.fna\"\n",
    "seqinfo = readFASTA(file)\n",
    "gc = gc_blocks(seqinfo[1], 1000)\n",
    "mapped_seq = gc_map(1, seqinfo[1], 1000, 0.45)"
   ]
  },
  {
   "cell_type": "code",
   "execution_count": 29,
   "id": "428325ac-820a-4c26-8cd2-a37658dda267",
   "metadata": {},
   "outputs": [],
   "source": [
    "def writeFASTA(path, title, seq):\n",
    "    acv_write = 1\n",
    "    if os.path.isfile(path):\n",
    "        if path[len(path)-4:] == '.fna':\n",
    "            path = path[:len(path)-4] + '_output.fna'\n",
    "            acv_write = 1\n",
    "        else:\n",
    "            raise RuntimeError('File already exists.')\n",
    "            acv_write = 0\n",
    "    if acv_write == 1:\n",
    "        with open(path, 'r+') as f:\n",
    "            if os.path.isfile(path):\n",
    "                f.truncate(0)\n",
    "            bpl = len(seq) // 60\n",
    "            rest_bases = len(seq) % 60\n",
    "            f.write(\"%s\" % (title))\n",
    "            for i in range(bpl):\n",
    "                line = seq[i*60 : (i + 1)*60]\n",
    "                f.write(\"%s\\n\" % (line))\n",
    "            if rest_bases != 0:\n",
    "                line = seq[bpl*60 : bpl*60 + rest_bases]\n",
    "                f.write(\"%s\\n\" % (line))\n",
    "            print('Writing the GC-mapped sequence is done:\\n', path)"
   ]
  },
  {
   "cell_type": "code",
   "execution_count": 30,
   "id": "d46f0970-1ead-4e7e-b44f-40bd15cb7d60",
   "metadata": {},
   "outputs": [
    {
     "name": "stdout",
     "output_type": "stream",
     "text": [
      "the infomation of this file:\n",
      " >gi|821161554|gb|CP011428.1| Salmonella enterica subsp. enterica strain YU39, complete genome, subsequence 3000000 to 3200000\n",
      "\n",
      "The total number of lines in this file: 3335 including the first title line.\n",
      "The total number of bases in this sequence: 200000 \n",
      "\n",
      "With block size 4, there are 50000 numbers of blocks and the rest bases are 0 in blocking.\n",
      "The average GC-content in this sequence is 0.52.\n",
      "\n",
      "Writing the GC-mapped sequence is done:\n",
      " ../data/salmonella_spi1_region_output.fna\n"
     ]
    }
   ],
   "source": [
    "file = '../data/salmonella_spi1_region.fna'\n",
    "seqinfo = readFASTA(file)\n",
    "gc = gc_blocks(seqinfo[1], 4)\n",
    "mapped_seq = gc_map(0, seqinfo[1], 1000, 0.45)\n",
    "writeFASTA(file, seqinfo[0], mapped_seq)"
   ]
  },
  {
   "cell_type": "markdown",
   "id": "9dcd80bc-09be-4c2a-bd0b-16fd4cc0a518",
   "metadata": {},
   "source": [
    "# Excercise 4.2"
   ]
  },
  {
   "cell_type": "code",
   "execution_count": 31,
   "id": "d0b4be58-04d9-4cbc-8de5-5402bd291121",
   "metadata": {},
   "outputs": [],
   "source": [
    "def longest_orf(seq):\n",
    "    seq = seq.upper()\n",
    "    target_codon = {'ATG':'ATG', 'TGA':'TGA', 'TAG':'TAG', 'TAA':'TAA'}    \n",
    "    tg_loc = FindCodon(0, seq, **target_codon)\n",
    "    start = sorted(tg_loc['ATG'])\n",
    "    stop = sorted((tg_loc['TGA'] + tg_loc['TAG'] + tg_loc['TAA']), reverse=True)\n",
    "    ORF = ''\n",
    "    for st in start:\n",
    "        for sp in stop:\n",
    "            if (sp-st) % 3 == 0:\n",
    "                if sp + 3 - st > len(ORF) :\n",
    "                    ORF = seq[st:sp+3]\n",
    "                else:\n",
    "                    break\n",
    "    print('the longest ORF of the sequence is %d bases.' % (len(ORF)))\n",
    "    return ORF"
   ]
  },
  {
   "cell_type": "code",
   "execution_count": 60,
   "id": "a60bacea-90bd-4b27-b07a-9729ed4f3845",
   "metadata": {
    "tags": []
   },
   "outputs": [
    {
     "name": "stdout",
     "output_type": "stream",
     "text": [
      "the infomation of this file:\n",
      " >gi|821161554|gb|CP011428.1| Salmonella enterica subsp. enterica strain YU39, complete genome, subsequence 3000000 to 3200000\n",
      "\n",
      "The total number of lines in this file: 3335 including the first title line.\n",
      "The total number of bases in this sequence: 200000 \n",
      "\n",
      "the longest ORF of the sequence is 199929 bases.\n"
     ]
    }
   ],
   "source": [
    "file = '../data/salmonella_spi1_region.fna'\n",
    "seqinfo = readFASTA(file)\n",
    "longORF = longest_orf(seqinfo[1])"
   ]
  },
  {
   "cell_type": "code",
   "execution_count": 61,
   "id": "e4b11872-5ae4-4ec5-89b6-b954481b0915",
   "metadata": {},
   "outputs": [],
   "source": [
    "def codon_to_peptide(naseq):\n",
    "    aaseq = ''\n",
    "    for i in range(0,len(naseq),3):\n",
    "        aaseq += codon_dic[naseq[i:i+3].upper()]\n",
    "    return aaseq"
   ]
  },
  {
   "cell_type": "code",
   "execution_count": 65,
   "id": "4d37e785-46da-47de-b8f7-f8cf73200ca1",
   "metadata": {},
   "outputs": [],
   "source": [
    "protein = codon_to_peptide(longORF)"
   ]
  },
  {
   "cell_type": "code",
   "execution_count": 70,
   "id": "7a56a8f7-3fef-4960-a645-c726e3c9610f",
   "metadata": {},
   "outputs": [],
   "source": [
    "def nth_longest_orf(seq, nth):\n",
    "    seq = seq.upper()\n",
    "    target_codon = {'ATG':'ATG', 'TGA':'TGA', 'TAG':'TAG', 'TAA':'TAA'}    \n",
    "    tg_loc = FindCodon(0, seq, **target_codon)\n",
    "    start = sorted(tg_loc['ATG'])\n",
    "    stop = sorted((tg_loc['TGA'] + tg_loc['TAG'] + tg_loc['TAA']), reverse=True)\n",
    "    ORFs = []\n",
    "    inds = []\n",
    "    n = 0\n",
    "    while n < nth:\n",
    "        ith = 0\n",
    "        ORF = ''\n",
    "        for i, st in enumerate(start):\n",
    "            for j, sp in enumerate(stop):\n",
    "                if (sp-st) % 3 == 0 and [i,j] not in inds:\n",
    "                    if sp + 3 - st > len(ORF) :\n",
    "                        ORF = seq[st:sp+3]\n",
    "                        inds.append([i,j])\n",
    "                    else:\n",
    "                        break\n",
    "        ORFs.append(ORF)\n",
    "        n += 1\n",
    "        print('the %d-longest ORF of the sequence is %d bases.' % (n,len(ORF)))\n",
    "    return ORFs"
   ]
  },
  {
   "cell_type": "code",
   "execution_count": 73,
   "id": "26a097c1-f526-403a-9cd3-1dde760061a3",
   "metadata": {},
   "outputs": [
    {
     "name": "stdout",
     "output_type": "stream",
     "text": [
      "the infomation of this file:\n",
      " >gi|821161554|gb|CP011428.1| Salmonella enterica subsp. enterica strain YU39, complete genome, subsequence 3000000 to 3200000\n",
      "\n",
      "The total number of lines in this file: 3335 including the first title line.\n",
      "The total number of bases in this sequence: 200000 \n",
      "\n",
      "the 1-longest ORF of the sequence is 199929 bases.\n",
      "the 2-longest ORF of the sequence is 199821 bases.\n",
      "the 3-longest ORF of the sequence is 199794 bases.\n",
      "the 4-longest ORF of the sequence is 199740 bases.\n",
      "the 5-longest ORF of the sequence is 199719 bases.\n"
     ]
    }
   ],
   "source": [
    "file = '../data/salmonella_spi1_region.fna'\n",
    "seqinfo = readFASTA(file)\n",
    "longORF = nth_longest_orf(seqinfo[1], 5)"
   ]
  }
 ],
 "metadata": {
  "kernelspec": {
   "display_name": "Python 3",
   "language": "python",
   "name": "python3"
  },
  "language_info": {
   "codemirror_mode": {
    "name": "ipython",
    "version": 3
   },
   "file_extension": ".py",
   "mimetype": "text/x-python",
   "name": "python",
   "nbconvert_exporter": "python",
   "pygments_lexer": "ipython3",
   "version": "3.8.10"
  }
 },
 "nbformat": 4,
 "nbformat_minor": 5
}
