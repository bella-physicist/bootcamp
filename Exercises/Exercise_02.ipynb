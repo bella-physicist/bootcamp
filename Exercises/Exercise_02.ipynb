{
 "cells": [
  {
   "cell_type": "markdown",
   "id": "7cbb3f92-b92a-4a33-81e4-6d8f537d36d9",
   "metadata": {},
   "source": [
    "# Exercise 2.1"
   ]
  },
  {
   "cell_type": "code",
   "execution_count": 1,
   "id": "261151c7-8db4-4a41-baaa-86c91e714a50",
   "metadata": {},
   "outputs": [],
   "source": [
    "def rev_comp_2_1_a (seq, material = 'DNA'):\n",
    "    comp = ''\n",
    "    for base in seq.upper():\n",
    "        if base == 'A':\n",
    "            if material == 'DNA':\n",
    "                comp += 'T'\n",
    "            elif material == 'RNA':\n",
    "                comp += 'U'\n",
    "        elif base in 'TU':\n",
    "            comp += 'A'\n",
    "        elif base == 'G':\n",
    "            comp += 'C'\n",
    "        else:\n",
    "            comp += 'G'\n",
    "    revcomp = comp[::-1]\n",
    "    return revcomp"
   ]
  },
  {
   "cell_type": "code",
   "execution_count": 2,
   "id": "14d5968a-8130-49bc-92a0-c774107a0724",
   "metadata": {},
   "outputs": [
    {
     "data": {
      "text/plain": [
       "'GACT'"
      ]
     },
     "execution_count": 2,
     "metadata": {},
     "output_type": "execute_result"
    }
   ],
   "source": [
    "seq = 'AGTC'\n",
    "rev_comp_2_1_a (seq)"
   ]
  },
  {
   "cell_type": "code",
   "execution_count": 3,
   "id": "970b714b-3a1c-495a-94f3-286def721fa0",
   "metadata": {},
   "outputs": [],
   "source": [
    "def disp_revcomp_2_1_a (seq, material = 'DNA'):\n",
    "    rev_comp = rev_comp_2_1_a (seq, material = 'DNA')\n",
    "    comp = rev_comp[::-1]\n",
    "    print(\"5' -\",seq.upper(),\"- 3'\")\n",
    "    print('     ',end='')\n",
    "    for base in seq:\n",
    "        print('|', end='')\n",
    "    print()\n",
    "    print(\"3' -\",comp,\"- 5'\")"
   ]
  },
  {
   "cell_type": "code",
   "execution_count": 4,
   "id": "4cbdf1e4-2691-4299-b5f4-a892a88c9f80",
   "metadata": {},
   "outputs": [
    {
     "name": "stdout",
     "output_type": "stream",
     "text": [
      "5' - AGTC - 3'\n",
      "     ||||\n",
      "3' - TCAG - 5'\n"
     ]
    }
   ],
   "source": [
    "disp_revcomp_2_1_a (seq)"
   ]
  },
  {
   "cell_type": "code",
   "execution_count": 5,
   "id": "cb324c45-32cc-4209-9272-807c96840a89",
   "metadata": {},
   "outputs": [],
   "source": [
    "def rev_comp_2_1_b (seq, material = 'DNA'):\n",
    "    capseq = seq.upper()\n",
    "    comp = capseq.replace('G', 'c').replace('C','g').replace('T','a').replace('U','a').replace('A','t').upper()\n",
    "    if material == 'RNA':\n",
    "        comp = comp.replace('T', 'A')\n",
    "    revcomp = comp[::-1]\n",
    "    return revcomp"
   ]
  },
  {
   "cell_type": "code",
   "execution_count": 6,
   "id": "02b56d02-a56a-489f-b537-6ee78f24a143",
   "metadata": {},
   "outputs": [
    {
     "data": {
      "text/plain": [
       "'TTGAATTGCCCCC'"
      ]
     },
     "execution_count": 6,
     "metadata": {},
     "output_type": "execute_result"
    }
   ],
   "source": [
    "seq = 'GGGGGCAATTCAA'\n",
    "rev_comp_2_1_b (seq)"
   ]
  },
  {
   "cell_type": "code",
   "execution_count": 7,
   "id": "166123bc-0767-49ab-b8cb-2b463553ccaa",
   "metadata": {},
   "outputs": [],
   "source": [
    "def disp_revcomp_2_1_b (seq, material = 'DNA'):\n",
    "    rev_comp = rev_comp_2_1_a (seq, material = 'DNA')\n",
    "    comp = rev_comp[::-1]\n",
    "    print(\"5' -\",seq.upper(),\"- 3'\")\n",
    "    print('     ',end='')\n",
    "    for base in seq:\n",
    "        print('|', end='')\n",
    "    print()\n",
    "    print(\"3' -\",comp,\"- 5'\")"
   ]
  },
  {
   "cell_type": "code",
   "execution_count": 8,
   "id": "3e4bbac8-b60b-46a5-83ee-ce80ab840277",
   "metadata": {},
   "outputs": [
    {
     "name": "stdout",
     "output_type": "stream",
     "text": [
      "5' - GGGGGCAATTCAA - 3'\n",
      "     |||||||||||||\n",
      "3' - CCCCCGTTAAGTT - 5'\n"
     ]
    }
   ],
   "source": [
    "seq = 'GGGGGCAATTCAA'\n",
    "disp_revcomp_2_1_b (seq)"
   ]
  },
  {
   "cell_type": "markdown",
   "id": "cb33936c-e9ae-4394-9599-5cd9abfa39bc",
   "metadata": {},
   "source": [
    "# Exercise 2.2"
   ]
  },
  {
   "cell_type": "code",
   "execution_count": 9,
   "id": "c0c7a832-a21c-4ecb-a61d-7408f3a860e2",
   "metadata": {},
   "outputs": [],
   "source": [
    "def longest_common_substring(s1, s2):\n",
    "    l1 = len(s1)\n",
    "    l2 = len(s2)\n",
    "    if l1 < l2:\n",
    "        short = s1\n",
    "        long = s2\n",
    "    else:\n",
    "        short = s2\n",
    "        long = s1\n",
    "        \n",
    "    k = l1\n",
    "    a = 0\n",
    "    b = 0\n",
    "    for i in range(len(short)):\n",
    "        j = 0\n",
    "        while i+j < len(short):\n",
    "            submatch = -100\n",
    "            subshort = short[i:len(short)-j]\n",
    "            submatch = long.find(subshort)\n",
    "            if submatch > -1:\n",
    "                if k > i+j:\n",
    "                    k = i+j\n",
    "                    a = i\n",
    "                    b = j\n",
    "            j += 1\n",
    "    \n",
    "    substring = short[a:len(short)-b]\n",
    "    return substring\n",
    "    "
   ]
  },
  {
   "cell_type": "code",
   "execution_count": 10,
   "id": "33853ee5-a8ad-4d0a-b5f0-039555b9b7ee",
   "metadata": {},
   "outputs": [
    {
     "data": {
      "text/plain": [
       "'ATGC'"
      ]
     },
     "execution_count": 10,
     "metadata": {},
     "output_type": "execute_result"
    }
   ],
   "source": [
    "longest_common_substring('ATGC', 'ATGCA')"
   ]
  },
  {
   "cell_type": "code",
   "execution_count": 11,
   "id": "966bc068-fed2-4582-be8e-09017cd555d9",
   "metadata": {},
   "outputs": [
    {
     "data": {
      "text/plain": [
       "'ATGCC'"
      ]
     },
     "execution_count": 11,
     "metadata": {},
     "output_type": "execute_result"
    }
   ],
   "source": [
    "longest_common_substring('GATGCCATGCA', 'ATGCC')"
   ]
  },
  {
   "cell_type": "code",
   "execution_count": 12,
   "id": "4d206026-908f-4313-9ae8-8b1c72577dd5",
   "metadata": {},
   "outputs": [
    {
     "data": {
      "text/plain": [
       "'ACGT'"
      ]
     },
     "execution_count": 12,
     "metadata": {},
     "output_type": "execute_result"
    }
   ],
   "source": [
    "longest_common_substring('ACGTGGAAAGCCA', 'GTACACACGTTTTGAGAGACAC')"
   ]
  },
  {
   "cell_type": "markdown",
   "id": "ebfeabc0-659d-434d-8e04-049477330f75",
   "metadata": {},
   "source": [
    "# Exercise 2.3"
   ]
  },
  {
   "cell_type": "code",
   "execution_count": 13,
   "id": "3fe1d2b1-344c-41c8-b50f-8183e822a63a",
   "metadata": {},
   "outputs": [],
   "source": [
    "def pairing_correction(hairpin):\n",
    "    ans = False\n",
    "    if abs(hairpin.count('(') - hairpin.count(')')) < 1e-10:\n",
    "        ans = True\n",
    "    return ans"
   ]
  },
  {
   "cell_type": "code",
   "execution_count": 14,
   "id": "05f6a4cd-fe1a-4605-aead-7ec9efea2fed",
   "metadata": {},
   "outputs": [
    {
     "data": {
      "text/plain": [
       "True"
      ]
     },
     "execution_count": 14,
     "metadata": {},
     "output_type": "execute_result"
    }
   ],
   "source": [
    "hairpin ='(((....)))'\n",
    "pairing_correction(hairpin)"
   ]
  },
  {
   "cell_type": "code",
   "execution_count": 15,
   "id": "e918048c-31ca-4c78-9ef4-285af3f8bc84",
   "metadata": {},
   "outputs": [],
   "source": [
    "def dotparen_to_bp(hairpin):\n",
    "    ans = True\n",
    "    l = len(hairpin)\n",
    "    pl = hairpin.count('(')\n",
    "    pr = hairpin.count(')')\n",
    "    if pl < pr:\n",
    "        p = ')'\n",
    "        q = '('\n",
    "    else:\n",
    "        p = '('\n",
    "        q = ')'\n",
    "    hairpin_pair = []\n",
    "    hp = (0,0)\n",
    "    i = 0\n",
    "    while ans == True and l-1-i >= 0:\n",
    "        if hairpin[i] == p:\n",
    "            if hairpin[l-1-i] != q:\n",
    "                ans = False\n",
    "            else:\n",
    "                hairpin_pair.append((i,l-1-i))\n",
    "        i += 1\n",
    "    if ans == True:\n",
    "        hp = tuple(hairpin_pair)\n",
    "        innermost = hairpin_pair.pop()\n",
    "        if innermost[1]-innermost[0] < 3:\n",
    "            ans = False\n",
    "            \n",
    "    return (ans, hp)\n",
    "    "
   ]
  },
  {
   "cell_type": "code",
   "execution_count": 16,
   "id": "77a39d96-9fa4-460c-aa98-74661645a279",
   "metadata": {},
   "outputs": [
    {
     "data": {
      "text/plain": [
       "(True, ((0, 9), (1, 8), (2, 7)))"
      ]
     },
     "execution_count": 16,
     "metadata": {},
     "output_type": "execute_result"
    }
   ],
   "source": [
    "dotparen_to_bp('(((....)))')"
   ]
  },
  {
   "cell_type": "code",
   "execution_count": 17,
   "id": "d1707eac-92d6-4931-a221-5d1293a57317",
   "metadata": {},
   "outputs": [],
   "source": [
    "def rna_ss_validator(seq, sec_struc, wobble=True):\n",
    "    ans = False\n",
    "    basepairs = (('A','U'),('U','A'),('G','C'),('C','G'))\n",
    "    if wobble == True:\n",
    "        basepairs += (('G','U'),('U','G'))\n",
    "        \n",
    "    A = pairing_correction(sec_struc)\n",
    "    B = dotparen_to_bp(sec_struc)\n",
    "               \n",
    "    if A is True and B[0] is True:\n",
    "        ans = True\n",
    "        paren = B[1]      \n",
    "        for i in range(len(paren)):\n",
    "            base = seq[paren[i][0]]\n",
    "            pair = seq[paren[i][1]]\n",
    "            if (base, pair) not in basepairs:\n",
    "                ans = False\n",
    "                \n",
    "    return (ans)\n",
    "    \n",
    "    \n",
    "    "
   ]
  },
  {
   "cell_type": "markdown",
   "id": "89e5aff0-f283-431d-b041-d836bf9e78ba",
   "metadata": {},
   "source": [
    "returns TRUE"
   ]
  },
  {
   "cell_type": "code",
   "execution_count": 18,
   "id": "59129827-5f34-4ae2-8b32-a53e3d9c6ef5",
   "metadata": {},
   "outputs": [
    {
     "data": {
      "text/plain": [
       "True"
      ]
     },
     "execution_count": 18,
     "metadata": {},
     "output_type": "execute_result"
    }
   ],
   "source": [
    "rna_ss_validator('GCAUCUAUGC', '(((....)))')"
   ]
  },
  {
   "cell_type": "code",
   "execution_count": 19,
   "id": "759e7fd7-b098-4bf3-a238-726e5ca7a016",
   "metadata": {},
   "outputs": [
    {
     "data": {
      "text/plain": [
       "True"
      ]
     },
     "execution_count": 19,
     "metadata": {},
     "output_type": "execute_result"
    }
   ],
   "source": [
    "rna_ss_validator('GCAUCUAUGU', '(((....)))')"
   ]
  },
  {
   "cell_type": "code",
   "execution_count": 20,
   "id": "d3342afe-520f-404c-a0e2-ac338df574aa",
   "metadata": {},
   "outputs": [
    {
     "data": {
      "text/plain": [
       "True"
      ]
     },
     "execution_count": 20,
     "metadata": {},
     "output_type": "execute_result"
    }
   ],
   "source": [
    "rna_ss_validator('GCAUCUAUGU', '(.(....).)')"
   ]
  },
  {
   "cell_type": "markdown",
   "id": "5c1a1165-1e2d-4eb4-9779-90286f2c8a75",
   "metadata": {},
   "source": [
    "returns FALSE"
   ]
  },
  {
   "cell_type": "code",
   "execution_count": 21,
   "id": "058c69a4-6d7f-4bd7-9992-c30a39ea4210",
   "metadata": {},
   "outputs": [
    {
     "data": {
      "text/plain": [
       "False"
      ]
     },
     "execution_count": 21,
     "metadata": {},
     "output_type": "execute_result"
    }
   ],
   "source": [
    "rna_ss_validator('GCAUCUACGC', '(((....)))')"
   ]
  },
  {
   "cell_type": "code",
   "execution_count": 22,
   "id": "1e32504d-e508-4f9a-a06a-47970283f4d7",
   "metadata": {},
   "outputs": [
    {
     "data": {
      "text/plain": [
       "False"
      ]
     },
     "execution_count": 22,
     "metadata": {},
     "output_type": "execute_result"
    }
   ],
   "source": [
    "rna_ss_validator('GCAUCUAUGU', '(((....)))', wobble=False)"
   ]
  },
  {
   "cell_type": "code",
   "execution_count": 23,
   "id": "926ab704-36f1-4ea3-8a2f-b2df2691a488",
   "metadata": {},
   "outputs": [
    {
     "data": {
      "text/plain": [
       "False"
      ]
     },
     "execution_count": 23,
     "metadata": {},
     "output_type": "execute_result"
    }
   ],
   "source": [
    "rna_ss_validator('GCAUCUAUGU', '(.(....)).')"
   ]
  },
  {
   "cell_type": "code",
   "execution_count": 24,
   "id": "f811ba13-a586-4016-b9db-bd16d37ca64b",
   "metadata": {},
   "outputs": [
    {
     "data": {
      "text/plain": [
       "False"
      ]
     },
     "execution_count": 24,
     "metadata": {},
     "output_type": "execute_result"
    }
   ],
   "source": [
    "rna_ss_validator('GCCCUUGGCA', '(.((..))).')"
   ]
  }
 ],
 "metadata": {
  "kernelspec": {
   "display_name": "Python 3",
   "language": "python",
   "name": "python3"
  },
  "language_info": {
   "codemirror_mode": {
    "name": "ipython",
    "version": 3
   },
   "file_extension": ".py",
   "mimetype": "text/x-python",
   "name": "python",
   "nbconvert_exporter": "python",
   "pygments_lexer": "ipython3",
   "version": "3.8.10"
  }
 },
 "nbformat": 4,
 "nbformat_minor": 5
}
