{
 "cells": [
  {
   "cell_type": "markdown",
   "id": "1f4f899c-64fc-4669-a5ea-d902c4291bb5",
   "metadata": {},
   "source": [
    "# Excercise 3.1"
   ]
  },
  {
   "cell_type": "code",
   "execution_count": null,
   "id": "c9efe4f0-cea1-47d8-877c-5fa880c0a923",
   "metadata": {},
   "outputs": [],
   "source": []
  }
 ],
 "metadata": {
  "kernelspec": {
   "display_name": "Python 3",
   "language": "python",
   "name": "python3"
  },
  "language_info": {
   "codemirror_mode": {
    "name": "ipython",
    "version": 3
   },
   "file_extension": ".py",
   "mimetype": "text/x-python",
   "name": "python",
   "nbconvert_exporter": "python",
   "pygments_lexer": "ipython3",
   "version": "3.8.10"
  }
 },
 "nbformat": 4,
 "nbformat_minor": 5
}
