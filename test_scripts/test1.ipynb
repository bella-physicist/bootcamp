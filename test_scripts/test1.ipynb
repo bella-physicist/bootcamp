{
 "cells": [
  {
   "cell_type": "code",
   "execution_count": 1,
   "id": "20a3334c-e604-43c0-907b-e51eefa74e94",
   "metadata": {},
   "outputs": [],
   "source": [
    "seq = 'GCATGGCCTACTAATCCAGGTAGGCGCAGCCGGTTAAATGTATAGCCCAACTTTGATT'"
   ]
  },
  {
   "cell_type": "code",
   "execution_count": 42,
   "id": "bc673442-3b23-4616-9362-0f75c4d734f7",
   "metadata": {},
   "outputs": [
    {
     "name": "stdout",
     "output_type": "stream",
     "text": [
      "GC-content: 48.28 percents\n"
     ]
    }
   ],
   "source": [
    "n_gc=0\n",
    "len_seq=0\n",
    "\n",
    "for base in seq:\n",
    "    len_seq += 1\n",
    "    if base in 'GCgc':\n",
    "        n_gc += 1\n",
    "        \n",
    "pc_gc = n_gc / len_seq *100\n",
    "\n",
    "print(\"GC-content: %0.2f percents\" % (n_gc/len(seq)*100))"
   ]
  },
  {
   "cell_type": "code",
   "execution_count": 44,
   "id": "9be04247-a21a-4bda-a96b-0e870f5bc368",
   "metadata": {},
   "outputs": [
    {
     "data": {
      "text/plain": [
       "True"
      ]
     },
     "execution_count": 44,
     "metadata": {},
     "output_type": "execute_result"
    }
   ],
   "source": [
    "len(seq)==len_seq"
   ]
  },
  {
   "cell_type": "code",
   "execution_count": 46,
   "id": "3a99a07f-f7e7-4977-b218-0b966ec1a8c4",
   "metadata": {},
   "outputs": [
    {
     "data": {
      "text/plain": [
       "10"
      ]
     },
     "execution_count": 46,
     "metadata": {},
     "output_type": "execute_result"
    }
   ],
   "source": [
    "for n in [1,2,3,4,5]:\n",
    "    n *= 2\n",
    "    \n",
    "n"
   ]
  },
  {
   "cell_type": "code",
   "execution_count": 49,
   "id": "23f1d5b4-d193-459c-99dc-32674372c947",
   "metadata": {},
   "outputs": [
    {
     "data": {
      "text/plain": [
       "[2, 4, 6, 8, 10]"
      ]
     },
     "execution_count": 49,
     "metadata": {},
     "output_type": "execute_result"
    }
   ],
   "source": [
    "my_integers = [1,2,3,4,5]\n",
    "\n",
    "for n in range(5):\n",
    "    my_integers[n] *= 2\n",
    "    \n",
    "my_integers"
   ]
  },
  {
   "cell_type": "code",
   "execution_count": 50,
   "id": "bd23d767-f9fd-411a-ac0e-caa816b1f2d7",
   "metadata": {},
   "outputs": [
    {
     "data": {
      "text/plain": [
       "5"
      ]
     },
     "execution_count": 50,
     "metadata": {},
     "output_type": "execute_result"
    }
   ],
   "source": [
    "len(my_integers)"
   ]
  },
  {
   "cell_type": "code",
   "execution_count": 56,
   "id": "4408b12b-be35-455a-bf94-36912cf547da",
   "metadata": {},
   "outputs": [
    {
     "data": {
      "text/plain": [
       "[2, 4, 6, 8, 10]"
      ]
     },
     "execution_count": 56,
     "metadata": {},
     "output_type": "execute_result"
    }
   ],
   "source": [
    "for n in range(-1):\n",
    "    my_integers[n] *= 2    \n",
    "my_integers"
   ]
  },
  {
   "cell_type": "code",
   "execution_count": 57,
   "id": "47c274ec-9628-4b0f-a3c7-2bfb8af84f33",
   "metadata": {},
   "outputs": [
    {
     "data": {
      "text/plain": [
       "range(0, 5)"
      ]
     },
     "execution_count": 57,
     "metadata": {},
     "output_type": "execute_result"
    }
   ],
   "source": [
    "range(5)"
   ]
  },
  {
   "cell_type": "code",
   "execution_count": 58,
   "id": "f7bae851-1097-48e7-b75c-cc0a0cec7d61",
   "metadata": {},
   "outputs": [
    {
     "data": {
      "text/plain": [
       "range(0, -1)"
      ]
     },
     "execution_count": 58,
     "metadata": {},
     "output_type": "execute_result"
    }
   ],
   "source": [
    "range(-1)"
   ]
  },
  {
   "cell_type": "code",
   "execution_count": 74,
   "id": "33277e3f-3810-4992-b3a6-acdb5e40dd12",
   "metadata": {},
   "outputs": [
    {
     "data": {
      "text/plain": [
       "[-2, 4, 6, 8, 10]"
      ]
     },
     "execution_count": 74,
     "metadata": {},
     "output_type": "execute_result"
    }
   ],
   "source": [
    "my_integers"
   ]
  },
  {
   "cell_type": "code",
   "execution_count": 75,
   "id": "c047c4b2-afd8-4d86-a19d-cc1b13c6d853",
   "metadata": {},
   "outputs": [],
   "source": [
    "for n in range(-4):\n",
    "    my_integers[n] *= -1    \n",
    "    print(my_integers[n])"
   ]
  },
  {
   "cell_type": "code",
   "execution_count": 76,
   "id": "73f54363-a6e1-4346-ab48-36ec329b9aa1",
   "metadata": {},
   "outputs": [
    {
     "data": {
      "text/plain": [
       "[-2, 4, 6, 8, 10]"
      ]
     },
     "execution_count": 76,
     "metadata": {},
     "output_type": "execute_result"
    }
   ],
   "source": [
    "my_integers"
   ]
  },
  {
   "cell_type": "code",
   "execution_count": 84,
   "id": "a95ac513-0619-4332-9d53-0905b72859dc",
   "metadata": {},
   "outputs": [
    {
     "data": {
      "text/plain": [
       "'GCATGGCCTACTAATCCAGGTAGGCGGCGCAGCCGGTTAAATGTATAGCCCAACTTTGATT'"
      ]
     },
     "execution_count": 84,
     "metadata": {},
     "output_type": "execute_result"
    }
   ],
   "source": [
    "seq = 'GCATGGCCTACTAATCCAGGTAGGCGGCGCAGCCGGTTAAATGTATAGCCCAACTTTGATT'\n",
    "seq"
   ]
  },
  {
   "cell_type": "code",
   "execution_count": 86,
   "id": "0e8241c9-b39c-4a48-9e89-5849c9c76dac",
   "metadata": {},
   "outputs": [
    {
     "name": "stdout",
     "output_type": "stream",
     "text": [
      "there is no start codon.\n"
     ]
    }
   ],
   "source": [
    "start_codon = 'AUG'\n",
    "i = 0\n",
    "while seq[i:i+3] != start_codon and i < len(seq):\n",
    "    i += 1\n",
    "if i == len(seq):\n",
    "    print('there is no start codon.')\n",
    "else:\n",
    "    print('The start codon starts at index', i)"
   ]
  },
  {
   "cell_type": "code",
   "execution_count": 87,
   "id": "388a1f1a-a487-4b08-9cff-6c20c29238bf",
   "metadata": {},
   "outputs": [],
   "source": [
    "seq = 'AAAAAA'"
   ]
  },
  {
   "cell_type": "code",
   "execution_count": 90,
   "id": "edb5a758-f258-4475-85c8-7263be9c91b8",
   "metadata": {},
   "outputs": [
    {
     "data": {
      "text/plain": [
       "3"
      ]
     },
     "execution_count": 90,
     "metadata": {},
     "output_type": "execute_result"
    }
   ],
   "source": [
    "seq.count('AA')"
   ]
  },
  {
   "cell_type": "code",
   "execution_count": null,
   "id": "7f95f077-86ba-4e2b-b3fc-c3c90e795235",
   "metadata": {},
   "outputs": [],
   "source": []
  }
 ],
 "metadata": {
  "kernelspec": {
   "display_name": "Python 3",
   "language": "python",
   "name": "python3"
  },
  "language_info": {
   "codemirror_mode": {
    "name": "ipython",
    "version": 3
   },
   "file_extension": ".py",
   "mimetype": "text/x-python",
   "name": "python",
   "nbconvert_exporter": "python",
   "pygments_lexer": "ipython3",
   "version": "3.8.10"
  }
 },
 "nbformat": 4,
 "nbformat_minor": 5
}
